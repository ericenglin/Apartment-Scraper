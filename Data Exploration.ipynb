{
 "cells": [
  {
   "cell_type": "code",
   "execution_count": 1,
   "metadata": {},
   "outputs": [],
   "source": [
    "# import libraries\n",
    "import pandas as pd\n",
    "import html\n",
    "from bs4 import BeautifulSoup\n",
    "import requests\n",
    "from urllib.request import Request, urlopen \n",
    "import urllib.request  \n",
    "import re"
   ]
  },
  {
   "cell_type": "code",
   "execution_count": 20,
   "metadata": {},
   "outputs": [],
   "source": [
    "interest_area_list = ['adams-morgan-columbia-heights',\n",
    "                      'petworth','southwest-navy-yard','h-street-noma',\n",
    "                      'capitol-hill','downtown-dc','georgetown-wisconsin-ave','noma',\n",
    "                      'silver-spring-md']\n",
    "\n",
    "header = {'User-Agent': 'Mozilla/5.0 (Macintosh; Intel Mac OS X 10_10_1) AppleWebKit/537.36 (KHTML, like Gecko) Chrome/39.0.2171.95 Safari/537.36'} \n"
   ]
  },
  {
   "cell_type": "code",
   "execution_count": 55,
   "metadata": {
    "scrolled": true
   },
   "outputs": [
    {
     "name": "stdout",
     "output_type": "stream",
     "text": [
      "https://www.apartments.com/adams-morgan-columbia-heights-washington-dc/under-2100-pet-friendly-dog/?sfmin=700&sfmax=1300\n",
      "adams-morgan-columbia-heights |  200 |   184\n",
      "184\n",
      "adams-morgan-columbia-heights |   184\n",
      "https://www.apartments.com/adams-morgan-columbia-heights-washington-dc/under-2100-pet-friendly-dog/2/?sfmin=700&sfmax=1300\n",
      "https://www.apartments.com/petworth-washington-dc/under-2100-pet-friendly-dog/?sfmin=700&sfmax=1300\n",
      "petworth |  200 |   28 \n",
      "28\n",
      "petworth |   28 \n",
      "https://www.apartments.com/petworth-washington-dc/under-2100-pet-friendly-dog/2/?sfmin=700&sfmax=1300\n",
      "https://www.apartments.com/southwest-navy-yard-washington-dc/under-2100-pet-friendly-dog/?sfmin=700&sfmax=1300\n",
      "southwest-navy-yard |  200 |   159\n",
      "159\n",
      "southwest-navy-yard |   159\n",
      "https://www.apartments.com/southwest-navy-yard-washington-dc/under-2100-pet-friendly-dog/2/?sfmin=700&sfmax=1300\n",
      "https://www.apartments.com/h-street-noma-washington-dc/under-2100-pet-friendly-dog/?sfmin=700&sfmax=1300\n",
      "h-street-noma |  200 |   19 \n",
      "19\n",
      "https://www.apartments.com/capitol-hill-washington-dc/under-2100-pet-friendly-dog/?sfmin=700&sfmax=1300\n",
      "capitol-hill |  200 |   256\n",
      "256\n",
      "capitol-hill |   256\n",
      "https://www.apartments.com/capitol-hill-washington-dc/under-2100-pet-friendly-dog/2/?sfmin=700&sfmax=1300\n",
      "https://www.apartments.com/downtown-dc-washington-dc/under-2100-pet-friendly-dog/?sfmin=700&sfmax=1300\n",
      "downtown-dc |  200 |   200\n",
      "200\n",
      "downtown-dc |   200\n",
      "https://www.apartments.com/downtown-dc-washington-dc/under-2100-pet-friendly-dog/2/?sfmin=700&sfmax=1300\n",
      "https://www.apartments.com/georgetown-wisconsin-ave-washington-dc/under-2100-pet-friendly-dog/?sfmin=700&sfmax=1300\n",
      "georgetown-wisconsin-ave |  200 |   172\n",
      "172\n",
      "georgetown-wisconsin-ave |   172\n",
      "https://www.apartments.com/georgetown-wisconsin-ave-washington-dc/under-2100-pet-friendly-dog/2/?sfmin=700&sfmax=1300\n",
      "https://www.apartments.com/noma-washington-dc/under-2100-pet-friendly-dog/?sfmin=700&sfmax=1300\n",
      "noma |  200 |   162\n",
      "162\n",
      "noma |   162\n",
      "https://www.apartments.com/noma-washington-dc/under-2100-pet-friendly-dog/2/?sfmin=700&sfmax=1300\n",
      "https://www.apartments.com/silver-spring-md-washington-dc/under-2100-pet-friendly-dog/?sfmin=700&sfmax=1300\n",
      "162\n",
      "silver-spring-md |   162\n",
      "https://www.apartments.com/silver-spring-md-washington-dc/under-2100-pet-friendly-dog/2/?sfmin=700&sfmax=1300\n"
     ]
    }
   ],
   "source": [
    "num_apartments_list = []\n",
    "area_url_list = []\n",
    "apartment_url_list = []\n",
    "area_list = []\n",
    "\n",
    "for area in interest_area_list:\n",
    "    url = \"https://www.apartments.com/\" + str(area) + \"-washington-dc/under-2100-pet-friendly-dog/?sfmin=700&sfmax=1300\"\n",
    "    \n",
    "    print(url)\n",
    "    my_page = requests.get(url, headers=header)\n",
    "    apartment_soup = BeautifulSoup(my_page.content, 'html.parser')\n",
    "\n",
    "    for x in apartment_soup.findAll(\"h3\"):\n",
    "        if \"mapResultBox\" in str(x):\n",
    "            print(str(area), \"| \", my_page.status_code, \"| \", x.contents[0][:4])\n",
    "            count = x.contents[0][:4]\n",
    "            \n",
    "    for x in apartment_soup.findAll(\"a\"):\n",
    "        if \"#photo\" in str(x):\n",
    "            apartment_url_list.append(x.get('href')[:-8])\n",
    "            num_apartments_list.append(count)\n",
    "            area_url_list.append(url)\n",
    "            area_list.append(area)\n",
    "            \n",
    "    print(int(count))\n",
    "    if int(count)>25:\n",
    "        print(area, \"| \", count)\n",
    "        url2 = \"https://www.apartments.com/\" + str(area) + \"-washington-dc/under-2100-pet-friendly-dog/\" + str(2) + \"/?sfmin=700&sfmax=1300\"\n",
    "        my_page = requests.get(url2, headers=header)\n",
    "        apartment_soup = BeautifulSoup(my_page.content, 'html.parser')\n",
    "        print(url2)\n",
    "        \n",
    "        for x in apartment_soup.findAll(\"a\"):\n",
    "            if \"#photo\" in str(x):\n",
    "                apartment_url_list.append(x.get('href')[:-8])\n",
    "                num_apartments_list.append(count)\n",
    "                area_url_list.append(url)\n",
    "                area_list.append(area)\n",
    "\n"
   ]
  },
  {
   "cell_type": "code",
   "execution_count": 59,
   "metadata": {},
   "outputs": [
    {
     "data": {
      "text/plain": [
       "(204, 204, 204, 204)"
      ]
     },
     "execution_count": 59,
     "metadata": {},
     "output_type": "execute_result"
    }
   ],
   "source": [
    "len(apartment_url_list), len(num_apartments_list), len(area_url_list), len(area_list)"
   ]
  },
  {
   "cell_type": "code",
   "execution_count": 57,
   "metadata": {},
   "outputs": [],
   "source": [
    "final_df = pd.DataFrame({\"Area\":area_list,\n",
    "                        \"Area url\": area_url_list, \n",
    "                        \"Number of apartments in area\": num_apartments_list,\n",
    "                        \"Apartment Url\": apartment_url_list})"
   ]
  },
  {
   "cell_type": "code",
   "execution_count": 81,
   "metadata": {},
   "outputs": [
    {
     "data": {
      "text/plain": [
       "'https://www.apartments.com/the-swift-at-petworth-metro-washington-dc/reev000'"
      ]
     },
     "execution_count": 81,
     "metadata": {},
     "output_type": "execute_result"
    }
   ],
   "source": [
    "url"
   ]
  },
  {
   "cell_type": "code",
   "execution_count": 82,
   "metadata": {
    "scrolled": true
   },
   "outputs": [],
   "source": [
    "url = final_df['Apartment Url'][0]\n",
    "my_page = requests.get(url, headers=header)\n",
    "apartment_soup = BeautifulSoup(my_page.content, 'html.parser')\n"
   ]
  },
  {
   "cell_type": "code",
   "execution_count": 98,
   "metadata": {},
   "outputs": [
    {
     "name": "stdout",
     "output_type": "stream",
     "text": [
      "['\\n', <p>\n",
      "<span>Dogs and Cats Allowed</span>\n",
      "</p>, '\\n', <ul>\n",
      "<li><span class=\"bullet\">•</span><span class=\"bullet-label\">Comments:</span> 2 pets $500 deposit.</li> <li><span class=\"bullet\">•</span>$55 Monthly Pet Rent</li>\n",
      "<li><span class=\"bullet\">•</span>$500 Fee</li>\n",
      "<li><span class=\"bullet\">•</span>2 Pet Limit</li>\n",
      "</ul>, '\\n']\n"
     ]
    }
   ],
   "source": [
    "for x in apartment_soup.findAll(\"h3\"):\n",
    "    #print(x.contents)\n",
    "    if \"Move-in Special\" in str(x):\n",
    "        deal = (x.nextSibling.nextSibling)\n",
    "    else:\n",
    "        deal = \"None\"\n",
    "        \n",
    "    if \"Pet Policy\" in str(x):\n",
    "        print(x.nextSibling.nextSibling.contents)\n"
   ]
  },
  {
   "cell_type": "code",
   "execution_count": 217,
   "metadata": {},
   "outputs": [],
   "source": []
  },
  {
   "cell_type": "code",
   "execution_count": 71,
   "metadata": {},
   "outputs": [
    {
     "data": {
      "text/plain": [
       "'The Swift at Petworth Metro'"
      ]
     },
     "execution_count": 71,
     "metadata": {},
     "output_type": "execute_result"
    }
   ],
   "source": [
    "apartment_soup.findAll(\"h1\")[0].contents[0].strip()"
   ]
  },
  {
   "cell_type": "code",
   "execution_count": 68,
   "metadata": {},
   "outputs": [
    {
     "data": {
      "text/plain": [
       "'The Swift at Petworth Metro'"
      ]
     },
     "execution_count": 68,
     "metadata": {},
     "output_type": "execute_result"
    }
   ],
   "source": [
    "apartment_name"
   ]
  },
  {
   "cell_type": "code",
   "execution_count": 233,
   "metadata": {
    "scrolled": true
   },
   "outputs": [
    {
     "name": "stdout",
     "output_type": "stream",
     "text": [
      "https://www.apartments.com/admo-heights-washington-dc/v4m2kwf\n",
      "https://www.apartments.com/the-swift-at-petworth-metro-washington-dc/reev000\n",
      "https://www.apartments.com/view-14-washington-dc/mdpd2hl\n",
      "https://www.apartments.com/warder-mansion-washington-dc/5whp04m\n",
      "https://www.apartments.com/highland-park-at-columbia-heights-metro-washington-dc/kprf84b\n",
      "https://www.apartments.com/gelmarc-towers-washington-dc/v3rclbe\n",
      "https://www.apartments.com/the-woodner-washington-dc/bvr7rf8\n",
      "https://www.apartments.com/the-shay-washington-dc/lqsqmxd\n",
      "https://www.apartments.com/arcade-sunshine-washington-dc/mz0p1xl\n",
      "https://www.apartments.com/calvert-woodley-washington-dc/jczwcd6\n",
      "https://www.apartments.com/quebec-house-washington-dc/xy5n62p\n",
      "https://www.apartments.com/highview-castle-manor-washington-dc/m5xtd7h\n",
      "https://www.apartments.com/park-place-at-petworth-metro-washington-dc/10h4n76\n",
      "https://www.apartments.com/harvard-village-washington-dc/evrj2lq\n",
      "https://www.apartments.com/park-triangle-washington-dc/lrxd40f\n",
      "https://www.apartments.com/park-ellison-washington-dc/5dvr6lm\n",
      "https://www.apartments.com/president-madison-washington-dc/k95fs1c\n",
      "https://www.apartments.com/7th-flats-washington-dc/lj6p6kd\n",
      "https://www.apartments.com/the-shawmut-washington-dc/kpyrwkb\n",
      "https://www.apartments.com/columbia-uptown-washington-dc/hxt25v3\n",
      "https://www.apartments.com/paramount-washington-dc/4szpm7l\n",
      "https://www.apartments.com/fitzgerald-washington-dc/22ss2m9\n",
      "https://www.apartments.com/the-citadel-washington-dc/27tnfrb\n",
      "https://www.apartments.com/dorchester-house-washington-dc/dq5n2zj\n",
      "https://www.apartments.com/dorchester-west-apartments-washington-dc/2p6wgy8\n",
      "https://www.apartments.com/1630-park-washington-dc/h5018z3\n",
      "https://www.apartments.com/washington-house-washington-dc/2tvesj9\n",
      "https://www.apartments.com/park-square-washington-dc/953vhx7\n",
      "https://www.apartments.com/lanier-apartments-washington-dc/9vh2ez6\n",
      "https://www.apartments.com/connecticut-plaza-apartments-washington-dc/35p1rgf\n",
      "https://www.apartments.com/cathedral-mansions-washington-dc/zwwccmx\n",
      "https://www.apartments.com/corcoran-house-at-dupont-circle-washington-dc/pcjl68v\n",
      "https://www.apartments.com/ravenel-washington-dc/evqw6lp\n",
      "https://www.apartments.com/1630-r-street-washington-dc/b77b759\n",
      "https://www.apartments.com/the-croydon-washington-dc/hh6rq30\n",
      "https://www.apartments.com/the-swift-at-petworth-metro-washington-dc/reev000\n",
      "https://www.apartments.com/the-woodner-washington-dc/bvr7rf8\n",
      "https://www.apartments.com/park-place-at-petworth-metro-washington-dc/10h4n76\n",
      "https://www.apartments.com/paramount-washington-dc/4szpm7l\n",
      "https://www.apartments.com/fitzgerald-washington-dc/22ss2m9\n",
      "https://www.apartments.com/the-swift-at-petworth-metro-washington-dc/reev000\n",
      "https://www.apartments.com/the-woodner-washington-dc/bvr7rf8\n",
      "https://www.apartments.com/park-place-at-petworth-metro-washington-dc/10h4n76\n",
      "https://www.apartments.com/paramount-washington-dc/4szpm7l\n",
      "https://www.apartments.com/fitzgerald-washington-dc/22ss2m9\n",
      "https://www.apartments.com/watermark-at-buzzard-point-washington-dc/y9f54dr\n",
      "https://www.apartments.com/blackbird-washington-dc/qq7jc4y\n",
      "https://www.apartments.com/lex-and-leo-at-waterfront-station-washington-dc/g9fz3pw\n",
      "https://www.apartments.com/valo-washington-dc/fvrk50r\n",
      "https://www.apartments.com/parc-riverside-washington-dc/hn9l512\n",
      "https://www.apartments.com/waterside-towers-washington-dc/y9zxkws\n",
      "https://www.apartments.com/crossing-washington-dc/rwzx0p3\n",
      "https://www.apartments.com/capitol-yards-washington-dc/0xrcww3\n",
      "https://www.apartments.com/ore-82-washington-dc/endrtlp\n",
      "https://www.apartments.com/modern-on-m-washington-dc/v298csf\n",
      "https://www.apartments.com/1001-waterfront-washington-dc/bchw3l8\n",
      "https://www.apartments.com/camden-south-capitol-washington-dc/rrjzp51\n",
      "https://www.apartments.com/the-bixby-washington-dc/2sybkcb\n",
      "https://www.apartments.com/909-washington-dc/09etle3\n",
      "https://www.apartments.com/eliot-on-4th-washington-dc/e4mgx1p\n",
      "https://www.apartments.com/onyx-on-first-washington-dc/kz1q2c8\n",
      "https://www.apartments.com/f1rst-residences-washington-dc/pwqnvsv\n",
      "https://www.apartments.com/capitol-park-plaza-apartments-twins-washington-dc/54q4tym\n",
      "https://www.apartments.com/watermark-at-buzzard-point-washington-dc/y9f54dr\n",
      "https://www.apartments.com/blackbird-washington-dc/qq7jc4y\n",
      "https://www.apartments.com/lex-and-leo-at-waterfront-station-washington-dc/g9fz3pw\n",
      "https://www.apartments.com/valo-washington-dc/fvrk50r\n",
      "https://www.apartments.com/parc-riverside-washington-dc/hn9l512\n",
      "https://www.apartments.com/waterside-towers-washington-dc/y9zxkws\n",
      "https://www.apartments.com/crossing-washington-dc/rwzx0p3\n",
      "https://www.apartments.com/capitol-yards-washington-dc/0xrcww3\n",
      "https://www.apartments.com/ore-82-washington-dc/endrtlp\n",
      "https://www.apartments.com/modern-on-m-washington-dc/v298csf\n",
      "https://www.apartments.com/1001-waterfront-washington-dc/bchw3l8\n",
      "https://www.apartments.com/camden-south-capitol-washington-dc/rrjzp51\n",
      "https://www.apartments.com/the-bixby-washington-dc/2sybkcb\n",
      "https://www.apartments.com/909-washington-dc/09etle3\n",
      "https://www.apartments.com/eliot-on-4th-washington-dc/e4mgx1p\n",
      "https://www.apartments.com/onyx-on-first-washington-dc/kz1q2c8\n",
      "https://www.apartments.com/f1rst-residences-washington-dc/pwqnvsv\n",
      "https://www.apartments.com/capitol-park-plaza-apartments-twins-washington-dc/54q4tym\n",
      "https://www.apartments.com/the-apollo-washington-dc/j0s2m86\n",
      "https://www.apartments.com/station-house-washington-dc/03e9td3\n",
      "https://www.apartments.com/anthology-washington-dc/wszpeqj\n",
      "https://www.apartments.com/360h-street-washington-dc/7e09fsy\n",
      "https://www.apartments.com/ava-h-street-washington-dc/gggrwgz\n",
      "https://www.apartments.com/blackbird-washington-dc/qq7jc4y\n",
      "https://www.apartments.com/union-heights-washington-dc/py4ex5t\n",
      "https://www.apartments.com/union-place-washington-dc/kxp7jp9\n",
      "https://www.apartments.com/park-kennedy-washington-dc/yf93vtt\n",
      "https://www.apartments.com/the-stanton-washington-dc/m7fn1dl\n",
      "https://www.apartments.com/the-apollo-washington-dc/j0s2m86\n",
      "https://www.apartments.com/meridian-at-gallery-place-washington-dc/l4ymxkd\n",
      "https://www.apartments.com/mass-court-washington-dc/ghlk6jw\n",
      "https://www.apartments.com/station-house-washington-dc/03e9td3\n",
      "https://www.apartments.com/parc-riverside-washington-dc/hn9l512\n",
      "https://www.apartments.com/anthology-washington-dc/wszpeqj\n",
      "https://www.apartments.com/the-loree-grand-at-union-place-washington-dc/jkd2t36\n",
      "https://www.apartments.com/100k-washington-dc/yyemckv\n",
      "https://www.apartments.com/avalon-at-gallery-place-washington-dc/2xewxe9\n",
      "https://www.apartments.com/crossing-washington-dc/rwzx0p3\n",
      "https://www.apartments.com/the-etta-washington-dc/7v5936y\n",
      "https://www.apartments.com/501-12th-street-washington-dc/5yd2pbp\n",
      "https://www.apartments.com/capitol-yards-washington-dc/0xrcww3\n",
      "https://www.apartments.com/bell-capitol-hill-washington-dc/j32g7t7\n",
      "https://www.apartments.com/909-washington-dc/09etle3\n",
      "https://www.apartments.com/ore-82-washington-dc/endrtlp\n",
      "https://www.apartments.com/425-mass-washington-dc/035wmw1\n",
      "https://www.apartments.com/360h-street-washington-dc/7e09fsy\n",
      "https://www.apartments.com/77-h-washington-dc/7qlflyw\n",
      "https://www.apartments.com/the-bixby-washington-dc/2sybkcb\n",
      "https://www.apartments.com/f1rst-residences-washington-dc/pwqnvsv\n",
      "https://www.apartments.com/onyx-on-first-washington-dc/kz1q2c8\n",
      "https://www.apartments.com/ava-h-street-washington-dc/gggrwgz\n",
      "https://www.apartments.com/newseum-residences-washington-dc/d8m3p4j\n",
      "https://www.apartments.com/the-aria-washington-dc/6z81lns\n",
      "https://www.apartments.com/capitol-park-plaza-apartments-twins-washington-dc/54q4tym\n",
      "https://www.apartments.com/the-grays-on-pennsylvania-washington-dc/wr62tyk\n",
      "https://www.apartments.com/the-woodward-building-apartments-washington-dc/df31r2j\n",
      "https://www.apartments.com/2m-street-washington-dc/qgn88px\n",
      "https://www.apartments.com/meridian-at-gallery-place-washington-dc/l4ymxkd\n",
      "https://www.apartments.com/the-shay-washington-dc/lqsqmxd\n",
      "https://www.apartments.com/1500-mass-washington-dc/9rbl2l6\n",
      "https://www.apartments.com/mass-court-washington-dc/ghlk6jw\n",
      "https://www.apartments.com/the-lurgan-apartments-washington-dc/nfgqrkn\n",
      "https://www.apartments.com/zen-apollo-washington-dc/rssmk53\n",
      "https://www.apartments.com/meridian-at-mt-vernon-triangle-washington-dc/rxvb5x3\n"
     ]
    },
    {
     "name": "stdout",
     "output_type": "stream",
     "text": [
      "https://www.apartments.com/andover-house-washington-dc/p2mmlnr\n",
      "https://www.apartments.com/1301-thomas-circle-washington-dc/q81qevx\n",
      "https://www.apartments.com/avalon-at-gallery-place-washington-dc/2xewxe9\n",
      "https://www.apartments.com/resa-washington-dc/z91hllw\n",
      "https://www.apartments.com/the-belgard-washington-dc/n17wlyp\n",
      "https://www.apartments.com/calvert-woodley-washington-dc/jczwcd6\n",
      "https://www.apartments.com/view-14-washington-dc/mdpd2hl\n",
      "https://www.apartments.com/cleveland-house-washington-dc/9x7shb5\n",
      "https://www.apartments.com/gelmarc-towers-washington-dc/v3rclbe\n",
      "https://www.apartments.com/washington-apartments-washington-dc/8vh3132\n",
      "https://www.apartments.com/newport-west-washington-dc/tm1549c\n",
      "https://www.apartments.com/the-mondrian-washington-dc/lt6c0se\n",
      "https://www.apartments.com/425-mass-washington-dc/035wmw1\n",
      "https://www.apartments.com/7th-flats-washington-dc/lj6p6kd\n",
      "https://www.apartments.com/yale-west-washington-dc/l10gqce\n",
      "https://www.apartments.com/president-madison-washington-dc/k95fs1c\n",
      "https://www.apartments.com/the-york-and-potomac-park-washington-dc/0n413l2\n",
      "https://www.apartments.com/flats-130-at-constitution-square-washington-dc/vf9fjvf\n",
      "https://www.apartments.com/camden-noma-washington-dc/mz4q2nj\n",
      "https://www.apartments.com/77-h-washington-dc/7qlflyw\n",
      "https://www.apartments.com/elevation-at-washington-gateway-washington-dc/yjjx41s\n",
      "https://www.apartments.com/the-shawmut-washington-dc/kpyrwkb\n",
      "https://www.apartments.com/newseum-residences-washington-dc/d8m3p4j\n",
      "https://www.apartments.com/ravenel-washington-dc/evqw6lp\n",
      "https://www.apartments.com/corcoran-house-at-dupont-circle-washington-dc/pcjl68v\n",
      "https://www.apartments.com/the-croydon-washington-dc/hh6rq30\n",
      "https://www.apartments.com/the-cambridge-apartments-washington-dc/gepb96x\n",
      "https://www.apartments.com/1630-r-street-washington-dc/b77b759\n",
      "https://www.apartments.com/kew-gardens-washington-dc/sdenwh4\n",
      "https://www.apartments.com/washington-house-washington-dc/2tvesj9\n",
      "https://www.apartments.com/avalon-at-foxhall-washington-dc/1g9csl4\n",
      "https://www.apartments.com/highlands-of-chevy-chase-chevy-chase-md/h1xzg03\n",
      "https://www.apartments.com/vaughan-place-washington-dc/t665fwc\n",
      "https://www.apartments.com/the-berkshire-washington-dc/7vsyfxy\n",
      "https://www.apartments.com/park-georgetown-arlington-va/5531ckm\n",
      "https://www.apartments.com/adams-view-apartments-washington-dc/51hcvmn\n",
      "https://www.apartments.com/park-crest-washington-dc/2cjm3n8\n",
      "https://www.apartments.com/wisconsin-place-chevy-chase-md/5bjh7bp\n",
      "https://www.apartments.com/kew-gardens-washington-dc/sdenwh4\n",
      "https://www.apartments.com/eaves-tunlaw-gardens-washington-dc/7tmf28w\n",
      "https://www.apartments.com/the-palisade-apartments-washington-dc/f8s2ykt\n",
      "https://www.apartments.com/avalon-at-foxhall-washington-dc/1g9csl4\n",
      "https://www.apartments.com/highlands-of-chevy-chase-chevy-chase-md/h1xzg03\n",
      "https://www.apartments.com/vaughan-place-washington-dc/t665fwc\n",
      "https://www.apartments.com/the-berkshire-washington-dc/7vsyfxy\n",
      "https://www.apartments.com/park-georgetown-arlington-va/5531ckm\n",
      "https://www.apartments.com/adams-view-apartments-washington-dc/51hcvmn\n",
      "https://www.apartments.com/park-crest-washington-dc/2cjm3n8\n",
      "https://www.apartments.com/wisconsin-place-chevy-chase-md/5bjh7bp\n",
      "https://www.apartments.com/kew-gardens-washington-dc/sdenwh4\n",
      "https://www.apartments.com/eaves-tunlaw-gardens-washington-dc/7tmf28w\n",
      "https://www.apartments.com/the-palisade-apartments-washington-dc/f8s2ykt\n",
      "https://www.apartments.com/2m-street-washington-dc/qgn88px\n",
      "https://www.apartments.com/union-place-washington-dc/kxp7jp9\n",
      "https://www.apartments.com/resa-washington-dc/z91hllw\n",
      "https://www.apartments.com/the-belgard-washington-dc/n17wlyp\n",
      "https://www.apartments.com/100k-washington-dc/yyemckv\n",
      "https://www.apartments.com/the-apollo-washington-dc/j0s2m86\n",
      "https://www.apartments.com/meridian-at-gallery-place-washington-dc/l4ymxkd\n",
      "https://www.apartments.com/mass-court-washington-dc/ghlk6jw\n",
      "https://www.apartments.com/station-house-washington-dc/03e9td3\n",
      "https://www.apartments.com/the-stanton-washington-dc/m7fn1dl\n",
      "https://www.apartments.com/meridian-at-mt-vernon-triangle-washington-dc/rxvb5x3\n",
      "https://www.apartments.com/anthology-washington-dc/wszpeqj\n",
      "https://www.apartments.com/the-loree-grand-at-union-place-washington-dc/jkd2t36\n",
      "https://www.apartments.com/avalon-at-gallery-place-washington-dc/2xewxe9\n",
      "https://www.apartments.com/washington-apartments-washington-dc/8vh3132\n",
      "https://www.apartments.com/flats-130-at-constitution-square-washington-dc/vf9fjvf\n",
      "https://www.apartments.com/camden-noma-washington-dc/mz4q2nj\n",
      "https://www.apartments.com/77-h-washington-dc/7qlflyw\n",
      "https://www.apartments.com/elevation-at-washington-gateway-washington-dc/yjjx41s\n",
      "https://www.apartments.com/425-mass-washington-dc/035wmw1\n",
      "https://www.apartments.com/360h-street-washington-dc/7e09fsy\n",
      "https://www.apartments.com/yale-west-washington-dc/l10gqce\n",
      "https://www.apartments.com/the-edison-at-union-market-washington-dc/5lj6xpq\n",
      "https://www.apartments.com/ava-h-street-washington-dc/gggrwgz\n",
      "https://www.apartments.com/the-aria-washington-dc/6z81lns\n"
     ]
    }
   ],
   "source": [
    "apartment_name_list = []\n",
    "apartment_deal_list = []\n",
    "apartment_pet_policy_list = []\n",
    "rating_list = []\n",
    "num_apartments_list = []\n",
    "apartment_pet_fee_list=[]\n",
    "apartment_pet_rent_list=[]\n",
    "apartment_pet_fee_clean_list=[]\n",
    "apartment_pet_rent_clean_list=[]\n",
    "num_reviews_list = []\n",
    "biggest_sq_ft_list = []\n",
    "\n",
    "sqft_list = []\n",
    "sqft_clean_list = []\n",
    "deposit_list = []\n",
    "available_list = []\n",
    "rent_list = []\n",
    "bedroom_list = []\n",
    "apartment_name_second_list = []\n",
    "apartment_url_second_list = []\n",
    "rent_simple_list=[]\n",
    "\n",
    "for url in final_df['Apartment Url']:\n",
    "    print(url)\n",
    "    my_page = requests.get(url, headers=header)\n",
    "    apartment_soup = BeautifulSoup(my_page.content, 'html.parser')\n",
    "    apartment_name = apartment_soup.findAll(\"h1\")[0].contents[0].strip()\n",
    "    deal = \"None\"\n",
    "    pet_policy = \"None\"\n",
    "    rating = \"None\"\n",
    "    num_reviews = \"No Reviews\"\n",
    "    for x in apartment_soup.findAll(\"h3\"):\n",
    "        #print(x.contents)\n",
    "        if \"Move-in Special\" in str(x):\n",
    "            deal = (x.nextSibling.nextSibling.text)\n",
    "\n",
    "        if \"Pet Policy\" in str(x):\n",
    "            pet_policy = x.nextSibling.nextSibling.text\n",
    "            pet_fee = pet_policy[pet_policy.find(\"Fee\")-6:pet_policy.find(\"Fee\")+3]\n",
    "            pet_rent = pet_policy[pet_policy.find(\"Monthly Pet Rent\")-5:pet_policy.find(\"Monthly Pet Rent\")+16]\n",
    "            pet_fee_clean = re.sub(\"[^0-9]\", \"\", pet_fee)\n",
    "            pet_rent_clean = re.sub(\"[^0-9]\", \"\", pet_rent)\n",
    "            \n",
    "    for x in apartment_soup.findAll(\"div\", class_=\"averageRating\"):\n",
    "        rating = x.contents[0]\n",
    "        \n",
    "    for x in apartment_soup.findAll(\"p\", class_=\"renterReviewsLabel\"):\n",
    "        num_reviews = x.contents[0]\n",
    "\n",
    "    apartment_name_list.append(apartment_name)\n",
    "    apartment_deal_list.append(deal)\n",
    "    apartment_pet_policy_list.append(pet_policy)\n",
    "    apartment_pet_fee_list.append(pet_fee)\n",
    "    apartment_pet_rent_list.append(pet_rent)\n",
    "    apartment_pet_fee_clean_list.append(pet_fee_clean)\n",
    "    apartment_pet_rent_clean_list.append(pet_rent_clean)\n",
    "    rating_list.append(rating)\n",
    "    num_reviews_list.append(num_reviews)\n",
    "    \n",
    "    count = 0\n",
    "    this_apartment_sqft_list = []\n",
    "\n",
    "    for x in apartment_soup.findAll(\"tr\"):\n",
    "        #print(x.contents)\n",
    "        if \"rentalGridRow\" in str(x):\n",
    "            try:\n",
    "                if int(x.find(class_=\"sqft\").contents[0].replace(\",\",\"\")[:4])<700:\n",
    "                    continue\n",
    "                \n",
    "                if x.find(class_=\"available\").contents[0].strip() == \"Not Available\":\n",
    "                    continue\n",
    "                    \n",
    "                rent_simple = (x.find(class_=\"rent\").contents[0].strip().replace(\",\",\"\"))[1:6]\n",
    "                try:\n",
    "                    if int(rent_simple)>2300:\n",
    "                        continue\n",
    "                except:\n",
    "                    pass\n",
    "\n",
    "                sqft = x.find(class_=\"sqft\").contents[0].strip()\n",
    "                sqft_clean = re.sub(\"[^0-9]\", \"\", sqft)\n",
    "                \n",
    "                deposit = (x.find(class_=\"deposit\").contents[0].strip())\n",
    "                available = (x.find(class_=\"available\").contents[0].strip())\n",
    "                rent = (x.find(class_=\"rent\").contents[0].strip())\n",
    "                bedroom = (x.text.strip()[:2], \" bedroom\")\n",
    "                count+=1\n",
    "\n",
    "                sqft_list.append(sqft) \n",
    "                sqft_clean_list.append(sqft_clean)\n",
    "                deposit_list.append(deposit) \n",
    "                available_list.append(available)\n",
    "                rent_list.append(rent)\n",
    "                rent_simple_list.append(rent_simple)\n",
    "                bedroom_list.append(bedroom)\n",
    "                apartment_name_second_list.append(apartment_name)\n",
    "                apartment_url_second_list.append(url)\n",
    "                \n",
    "                this_apartment_sqft_list.append(sqft_clean)\n",
    "            except:\n",
    "                pass\n",
    "        \n",
    "    num_apartments_list.append(count/2)\n",
    "    try:\n",
    "        biggest_sq_ft_list.append(max(this_apartment_sqft_list))\n",
    "    except:\n",
    "        biggest_sq_ft_list.append(0)\n"
   ]
  },
  {
   "cell_type": "code",
   "execution_count": 234,
   "metadata": {},
   "outputs": [],
   "source": [
    "final_df['Apartment'] = apartment_name_list\n",
    "final_df['Deal'] = apartment_deal_list\n",
    "final_df['Pet Policy'] = apartment_pet_policy_list\n",
    "final_df['Pet Rent'] = apartment_pet_rent_list\n",
    "final_df['Pet Fee'] = apartment_pet_fee_list\n",
    "final_df['Number of Units']=num_apartments_list\n",
    "final_df['Average Rating']=rating_list\n",
    "final_df['Number of Reviews']=num_reviews_list\n",
    "final_df['Pet Fee Clean']= apartment_pet_fee_clean_list\n",
    "final_df['Pet Rent Clean']= apartment_pet_rent_clean_list\n",
    "final_df['Biggest Apt Size']=biggest_sq_ft_list"
   ]
  },
  {
   "cell_type": "code",
   "execution_count": 235,
   "metadata": {},
   "outputs": [],
   "source": [
    "apartment_df = pd.DataFrame({\"Apartment\":apartment_name_list,\n",
    "                            \"Deal\":apartment_deal_list,\n",
    "                            \"Pet Policy\": apartment_pet_policy_list})"
   ]
  },
  {
   "cell_type": "code",
   "execution_count": 236,
   "metadata": {},
   "outputs": [],
   "source": [
    "final_df1=final_df.drop_duplicates(subset=['Apartment', 'Deal'], keep='first')"
   ]
  },
  {
   "cell_type": "code",
   "execution_count": 237,
   "metadata": {},
   "outputs": [
    {
     "data": {
      "text/plain": [
       "((107, 15), (204, 15))"
      ]
     },
     "execution_count": 237,
     "metadata": {},
     "output_type": "execute_result"
    }
   ],
   "source": [
    "final_df1.shape, final_df.shape"
   ]
  },
  {
   "cell_type": "code",
   "execution_count": 238,
   "metadata": {},
   "outputs": [],
   "source": [
    "final_df1.to_csv(\"apartments.csv\",index=False)"
   ]
  },
  {
   "cell_type": "code",
   "execution_count": 239,
   "metadata": {},
   "outputs": [],
   "source": [
    "apartment_final_df = pd.DataFrame({\"Apartment\":apartment_name_second_list,\n",
    "                                  'Apartment URL':apartment_url_second_list,\n",
    "                                  'Sq Feet':sqft_list,\n",
    "                                   'Sq Feet Clean':sqft_clean_list,\n",
    "                                  'Rent':rent_list,\n",
    "                                   \"Rent Simple\":rent_simple_list,\n",
    "                                  'Bedrooms':bedroom_list,\n",
    "                                  'Deposit':deposit_list,\n",
    "                                  'Available':available_list})\n",
    "\n",
    "apartment_final_df1 = apartment_final_df.drop_duplicates(subset=['Apartment', 'Sq Feet','Rent',\n",
    "                                                                'Available','Bedrooms','Deposit'], \n",
    "                                                         keep='first').reset_index()"
   ]
  },
  {
   "cell_type": "code",
   "execution_count": 240,
   "metadata": {},
   "outputs": [
    {
     "data": {
      "text/plain": [
       "((3333, 9), (823, 10))"
      ]
     },
     "execution_count": 240,
     "metadata": {},
     "output_type": "execute_result"
    }
   ],
   "source": [
    "apartment_final_df.shape, apartment_final_df1.shape"
   ]
  },
  {
   "cell_type": "code",
   "execution_count": 241,
   "metadata": {},
   "outputs": [],
   "source": [
    "apartment_final_df1.to_csv(\"units.csv\",index=False)"
   ]
  }
 ],
 "metadata": {
  "kernelspec": {
   "display_name": "Python 3",
   "language": "python",
   "name": "python3"
  },
  "language_info": {
   "codemirror_mode": {
    "name": "ipython",
    "version": 3
   },
   "file_extension": ".py",
   "mimetype": "text/x-python",
   "name": "python",
   "nbconvert_exporter": "python",
   "pygments_lexer": "ipython3",
   "version": "3.8.3"
  }
 },
 "nbformat": 4,
 "nbformat_minor": 4
}
