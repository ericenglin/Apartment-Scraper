{
 "cells": [
  {
   "cell_type": "code",
   "execution_count": 1,
   "metadata": {},
   "outputs": [],
   "source": [
    "# import libraries\n",
    "import pandas as pd\n",
    "import html\n",
    "from bs4 import BeautifulSoup\n",
    "import requests\n",
    "from urllib.request import Request, urlopen \n",
    "import urllib.request  "
   ]
  },
  {
   "cell_type": "code",
   "execution_count": 20,
   "metadata": {},
   "outputs": [],
   "source": [
    "interest_area_list = ['adams-morgan-columbia-heights',\n",
    "                      'petworth','southwest-navy-yard','h-street-noma',\n",
    "                      'capitol-hill','downtown-dc','georgetown-wisconsin-ave','noma',\n",
    "                      'silver-spring-md']\n",
    "\n",
    "header = {'User-Agent': 'Mozilla/5.0 (Macintosh; Intel Mac OS X 10_10_1) AppleWebKit/537.36 (KHTML, like Gecko) Chrome/39.0.2171.95 Safari/537.36'} \n"
   ]
  },
  {
   "cell_type": "code",
   "execution_count": 55,
   "metadata": {
    "scrolled": true
   },
   "outputs": [
    {
     "name": "stdout",
     "output_type": "stream",
     "text": [
      "https://www.apartments.com/adams-morgan-columbia-heights-washington-dc/under-2100-pet-friendly-dog/?sfmin=700&sfmax=1300\n",
      "adams-morgan-columbia-heights |  200 |   184\n",
      "184\n",
      "adams-morgan-columbia-heights |   184\n",
      "https://www.apartments.com/adams-morgan-columbia-heights-washington-dc/under-2100-pet-friendly-dog/2/?sfmin=700&sfmax=1300\n",
      "https://www.apartments.com/petworth-washington-dc/under-2100-pet-friendly-dog/?sfmin=700&sfmax=1300\n",
      "petworth |  200 |   28 \n",
      "28\n",
      "petworth |   28 \n",
      "https://www.apartments.com/petworth-washington-dc/under-2100-pet-friendly-dog/2/?sfmin=700&sfmax=1300\n",
      "https://www.apartments.com/southwest-navy-yard-washington-dc/under-2100-pet-friendly-dog/?sfmin=700&sfmax=1300\n",
      "southwest-navy-yard |  200 |   159\n",
      "159\n",
      "southwest-navy-yard |   159\n",
      "https://www.apartments.com/southwest-navy-yard-washington-dc/under-2100-pet-friendly-dog/2/?sfmin=700&sfmax=1300\n",
      "https://www.apartments.com/h-street-noma-washington-dc/under-2100-pet-friendly-dog/?sfmin=700&sfmax=1300\n",
      "h-street-noma |  200 |   19 \n",
      "19\n",
      "https://www.apartments.com/capitol-hill-washington-dc/under-2100-pet-friendly-dog/?sfmin=700&sfmax=1300\n",
      "capitol-hill |  200 |   256\n",
      "256\n",
      "capitol-hill |   256\n",
      "https://www.apartments.com/capitol-hill-washington-dc/under-2100-pet-friendly-dog/2/?sfmin=700&sfmax=1300\n",
      "https://www.apartments.com/downtown-dc-washington-dc/under-2100-pet-friendly-dog/?sfmin=700&sfmax=1300\n",
      "downtown-dc |  200 |   200\n",
      "200\n",
      "downtown-dc |   200\n",
      "https://www.apartments.com/downtown-dc-washington-dc/under-2100-pet-friendly-dog/2/?sfmin=700&sfmax=1300\n",
      "https://www.apartments.com/georgetown-wisconsin-ave-washington-dc/under-2100-pet-friendly-dog/?sfmin=700&sfmax=1300\n",
      "georgetown-wisconsin-ave |  200 |   172\n",
      "172\n",
      "georgetown-wisconsin-ave |   172\n",
      "https://www.apartments.com/georgetown-wisconsin-ave-washington-dc/under-2100-pet-friendly-dog/2/?sfmin=700&sfmax=1300\n",
      "https://www.apartments.com/noma-washington-dc/under-2100-pet-friendly-dog/?sfmin=700&sfmax=1300\n",
      "noma |  200 |   162\n",
      "162\n",
      "noma |   162\n",
      "https://www.apartments.com/noma-washington-dc/under-2100-pet-friendly-dog/2/?sfmin=700&sfmax=1300\n",
      "https://www.apartments.com/silver-spring-md-washington-dc/under-2100-pet-friendly-dog/?sfmin=700&sfmax=1300\n",
      "162\n",
      "silver-spring-md |   162\n",
      "https://www.apartments.com/silver-spring-md-washington-dc/under-2100-pet-friendly-dog/2/?sfmin=700&sfmax=1300\n"
     ]
    }
   ],
   "source": [
    "num_apartments_list = []\n",
    "area_url_list = []\n",
    "apartment_url_list = []\n",
    "area_list = []\n",
    "\n",
    "for area in interest_area_list:\n",
    "    url = \"https://www.apartments.com/\" + str(area) + \"-washington-dc/under-2100-pet-friendly-dog/?sfmin=700&sfmax=1300\"\n",
    "    \n",
    "    print(url)\n",
    "    my_page = requests.get(url, headers=header)\n",
    "    apartment_soup = BeautifulSoup(my_page.content, 'html.parser')\n",
    "\n",
    "    for x in apartment_soup.findAll(\"h3\"):\n",
    "        if \"mapResultBox\" in str(x):\n",
    "            print(str(area), \"| \", my_page.status_code, \"| \", x.contents[0][:4])\n",
    "            count = x.contents[0][:4]\n",
    "            \n",
    "    for x in apartment_soup.findAll(\"a\"):\n",
    "        if \"#photo\" in str(x):\n",
    "            apartment_url_list.append(x.get('href')[:-8])\n",
    "            num_apartments_list.append(count)\n",
    "            area_url_list.append(url)\n",
    "            area_list.append(area)\n",
    "            \n",
    "    print(int(count))\n",
    "    if int(count)>25:\n",
    "        print(area, \"| \", count)\n",
    "        url2 = \"https://www.apartments.com/\" + str(area) + \"-washington-dc/under-2100-pet-friendly-dog/\" + str(2) + \"/?sfmin=700&sfmax=1300\"\n",
    "        my_page = requests.get(url2, headers=header)\n",
    "        apartment_soup = BeautifulSoup(my_page.content, 'html.parser')\n",
    "        print(url2)\n",
    "        \n",
    "        for x in apartment_soup.findAll(\"a\"):\n",
    "            if \"#photo\" in str(x):\n",
    "                apartment_url_list.append(x.get('href')[:-8])\n",
    "                num_apartments_list.append(count)\n",
    "                area_url_list.append(url)\n",
    "                area_list.append(area)\n",
    "\n"
   ]
  },
  {
   "cell_type": "code",
   "execution_count": 59,
   "metadata": {},
   "outputs": [
    {
     "data": {
      "text/plain": [
       "(204, 204, 204, 204)"
      ]
     },
     "execution_count": 59,
     "metadata": {},
     "output_type": "execute_result"
    }
   ],
   "source": [
    "len(apartment_url_list), len(num_apartments_list), len(area_url_list), len(area_list)"
   ]
  },
  {
   "cell_type": "code",
   "execution_count": 57,
   "metadata": {},
   "outputs": [],
   "source": [
    "final_df = pd.DataFrame({\"Area\":area_list,\n",
    "                        \"Area url\": area_url_list, \n",
    "                        \"Number of apartments in area\": num_apartments_list,\n",
    "                        \"Apartment Url\": apartment_url_list})"
   ]
  },
  {
   "cell_type": "code",
   "execution_count": 81,
   "metadata": {},
   "outputs": [
    {
     "data": {
      "text/plain": [
       "'https://www.apartments.com/the-swift-at-petworth-metro-washington-dc/reev000'"
      ]
     },
     "execution_count": 81,
     "metadata": {},
     "output_type": "execute_result"
    }
   ],
   "source": [
    "url"
   ]
  },
  {
   "cell_type": "code",
   "execution_count": 82,
   "metadata": {
    "scrolled": true
   },
   "outputs": [],
   "source": [
    "url = final_df['Apartment Url'][0]\n",
    "my_page = requests.get(url, headers=header)\n",
    "apartment_soup = BeautifulSoup(my_page.content, 'html.parser')\n"
   ]
  },
  {
   "cell_type": "code",
   "execution_count": 98,
   "metadata": {},
   "outputs": [
    {
     "name": "stdout",
     "output_type": "stream",
     "text": [
      "['\\n', <p>\n",
      "<span>Dogs and Cats Allowed</span>\n",
      "</p>, '\\n', <ul>\n",
      "<li><span class=\"bullet\">•</span><span class=\"bullet-label\">Comments:</span> 2 pets $500 deposit.</li> <li><span class=\"bullet\">•</span>$55 Monthly Pet Rent</li>\n",
      "<li><span class=\"bullet\">•</span>$500 Fee</li>\n",
      "<li><span class=\"bullet\">•</span>2 Pet Limit</li>\n",
      "</ul>, '\\n']\n"
     ]
    }
   ],
   "source": [
    "for x in apartment_soup.findAll(\"h3\"):\n",
    "    #print(x.contents)\n",
    "    if \"Move-in Special\" in str(x):\n",
    "        deal = (x.nextSibling.nextSibling)\n",
    "    else:\n",
    "        deal = \"None\"\n",
    "        \n",
    "    if \"Pet Policy\" in str(x):\n",
    "        print(x.nextSibling.nextSibling.contents)\n"
   ]
  },
  {
   "cell_type": "code",
   "execution_count": null,
   "metadata": {},
   "outputs": [],
   "source": []
  },
  {
   "cell_type": "code",
   "execution_count": 71,
   "metadata": {},
   "outputs": [
    {
     "data": {
      "text/plain": [
       "'The Swift at Petworth Metro'"
      ]
     },
     "execution_count": 71,
     "metadata": {},
     "output_type": "execute_result"
    }
   ],
   "source": [
    "apartment_soup.findAll(\"h1\")[0].contents[0].strip()"
   ]
  },
  {
   "cell_type": "code",
   "execution_count": 68,
   "metadata": {},
   "outputs": [
    {
     "data": {
      "text/plain": [
       "'The Swift at Petworth Metro'"
      ]
     },
     "execution_count": 68,
     "metadata": {},
     "output_type": "execute_result"
    }
   ],
   "source": [
    "apartment_name"
   ]
  },
  {
   "cell_type": "code",
   "execution_count": null,
   "metadata": {
    "scrolled": true
   },
   "outputs": [
    {
     "name": "stdout",
     "output_type": "stream",
     "text": [
      "https://www.apartments.com/admo-heights-washington-dc/v4m2kwf\n",
      "https://www.apartments.com/the-swift-at-petworth-metro-washington-dc/reev000\n",
      "https://www.apartments.com/view-14-washington-dc/mdpd2hl\n",
      "https://www.apartments.com/warder-mansion-washington-dc/5whp04m\n",
      "https://www.apartments.com/highland-park-at-columbia-heights-metro-washington-dc/kprf84b\n",
      "https://www.apartments.com/gelmarc-towers-washington-dc/v3rclbe\n",
      "https://www.apartments.com/the-woodner-washington-dc/bvr7rf8\n",
      "https://www.apartments.com/the-shay-washington-dc/lqsqmxd\n",
      "https://www.apartments.com/arcade-sunshine-washington-dc/mz0p1xl\n",
      "https://www.apartments.com/calvert-woodley-washington-dc/jczwcd6\n",
      "https://www.apartments.com/quebec-house-washington-dc/xy5n62p\n",
      "https://www.apartments.com/highview-castle-manor-washington-dc/m5xtd7h\n",
      "https://www.apartments.com/park-place-at-petworth-metro-washington-dc/10h4n76\n",
      "https://www.apartments.com/harvard-village-washington-dc/evrj2lq\n"
     ]
    }
   ],
   "source": [
    "apartment_name_list = []\n",
    "apartment_deal_list = []\n",
    "apartment_pet_policy_list = []\n",
    "\n",
    "for url in final_df['Apartment Url']:\n",
    "    print(url)\n",
    "    my_page = requests.get(url, headers=header)\n",
    "    apartment_soup = BeautifulSoup(my_page.content, 'html.parser')\n",
    "    apartment_name = apartment_soup.findAll(\"h1\")[0].contents[0].strip()\n",
    "    deal = \"None\"\n",
    "    pet_policy = \"None\"\n",
    "    for x in apartment_soup.findAll(\"h3\"):\n",
    "        #print(x.contents)\n",
    "        if \"Move-in Special\" in str(x):\n",
    "            deal = (x.nextSibling.nextSibling)\n",
    "\n",
    "        if \"Pet Policy\" in str(x):\n",
    "            pet_policy = x.nextSibling.nextSibling.contents\n",
    "            \n",
    "    apartment_name_list.append(apartment_name)\n",
    "    apartment_deal_list.append(deal)\n",
    "    apartment_pet_policy_list.append(pet_policy)"
   ]
  },
  {
   "cell_type": "code",
   "execution_count": null,
   "metadata": {},
   "outputs": [],
   "source": [
    "apartment_df = pd.DataFrame({\"Apartment\":apartment_name_list,\n",
    "                            \"Deal\":apartment_deal_list,\n",
    "                            \"Pet Policy\": apartment_pet_policy_list})"
   ]
  },
  {
   "cell_type": "code",
   "execution_count": null,
   "metadata": {},
   "outputs": [],
   "source": [
    "apartment_df.to_csv(\"apartments.csv\",index=False)"
   ]
  },
  {
   "cell_type": "code",
   "execution_count": null,
   "metadata": {},
   "outputs": [],
   "source": []
  }
 ],
 "metadata": {
  "kernelspec": {
   "display_name": "Python 3",
   "language": "python",
   "name": "python3"
  },
  "language_info": {
   "codemirror_mode": {
    "name": "ipython",
    "version": 3
   },
   "file_extension": ".py",
   "mimetype": "text/x-python",
   "name": "python",
   "nbconvert_exporter": "python",
   "pygments_lexer": "ipython3",
   "version": "3.8.3"
  }
 },
 "nbformat": 4,
 "nbformat_minor": 4
}
